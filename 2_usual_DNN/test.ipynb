{
 "cells": [
  {
   "cell_type": "code",
   "execution_count": 3,
   "metadata": {},
   "outputs": [],
   "source": [
    "import numpy as np\n",
    "import matplotlib.pyplot as plt\n",
    "import torch\n",
    "import torch.nn as nn\n",
    "import torch.nn.functional as F"
   ]
  },
  {
   "cell_type": "code",
   "execution_count": 4,
   "metadata": {},
   "outputs": [
    {
     "name": "stdout",
     "output_type": "stream",
     "text": [
      "cpu\n"
     ]
    },
    {
     "name": "stderr",
     "output_type": "stream",
     "text": [
      "/home/betelgeuse/.local/lib/python3.10/site-packages/requests/__init__.py:109: RequestsDependencyWarning: urllib3 (1.26.12) or chardet (5.0.0)/charset_normalizer (2.0.12) doesn't match a supported version!\n",
      "  warnings.warn(\n"
     ]
    }
   ],
   "source": [
    "device = torch.device(\"cuda:0\" if torch.cuda.is_available() else \"cpu\")\n",
    "print(device)\n",
    "\n",
    "# import datasets \n",
    "from torchvision import datasets, transforms\n",
    "\n",
    "trans = transforms.Compose( [ transforms.ToTensor(), transforms.Normalize( (0.1307,),(0.3081,))])\n",
    "\n",
    "train_set = datasets.MNIST( './data', train=True, transform=trans, download=True )\n",
    "test_set = datasets.MNIST( './data', train=False, transform=trans, download=True )\n"
   ]
  },
  {
   "cell_type": "code",
   "execution_count": 5,
   "metadata": {},
   "outputs": [
    {
     "name": "stdout",
     "output_type": "stream",
     "text": [
      "total training batch number: 600\n",
      "total testing batch number: 100\n"
     ]
    }
   ],
   "source": [
    "batch_size = 100\n",
    "train_loader = torch.utils.data.DataLoader(\n",
    "                 dataset=train_set,\n",
    "                 batch_size=batch_size,\n",
    "                 shuffle=True)\n",
    "test_loader = torch.utils.data.DataLoader(\n",
    "                dataset=test_set,\n",
    "                batch_size=batch_size,\n",
    "                shuffle=True)\n",
    "\n",
    "print('total training batch number: {}'.format(len(train_loader)))\n",
    "print('total testing batch number: {}'.format(len(test_loader)))"
   ]
  },
  {
   "cell_type": "code",
   "execution_count": 13,
   "metadata": {},
   "outputs": [
    {
     "data": {
      "image/png": "[encoded data removed]",
      "text/plain": [
       "<Figure size 640x480 with 1 Axes>"
      ]
     },
     "metadata": {},
     "output_type": "display_data"
    }
   ],
   "source": [
    "# display some images\n",
    "# for an alternative see https://pytorch.org/tutorials/advanced/neural_style_tutorial.html\n",
    "def imshow(tensor, title=None):\n",
    "    img = tensor.cpu().clone()\n",
    "    img = img.squeeze()\n",
    "    plt.imshow(img, cmap='gray')\n",
    "    if title is not None:\n",
    "        plt.title(title)\n",
    "    plt.pause(0.5)\n",
    "\n",
    "plt.figure()\n",
    "for ii in range(10):\n",
    "    imshow(train_set.data[ii] , title='MNIST example ({})'.format(train_set.targets[ii]) )\n",
    "    break\n",
    "plt.close()"
   ]
  },
  {
   "cell_type": "code",
   "execution_count": 15,
   "metadata": {},
   "outputs": [],
   "source": [
    "# define MLP model\n",
    "DATA_SIZE = 28*28 \n",
    "NUM_CLASSES = 10\n",
    "NUM_HIDDEN_1 = 512 # try 512\n",
    "NUM_HIDDEN_2 = 256"
   ]
  },
  {
   "cell_type": "code",
   "execution_count": 18,
   "metadata": {},
   "outputs": [],
   "source": [
    "class RegSoftNet(nn.Module):\n",
    "    def __init__(self):\n",
    "        super(RegSoftNet, self).__init__()\n",
    "        self.fc = nn.Linear(DATA_SIZE, NUM_CLASSES)\n",
    "    def forward(self, x):\n",
    "        x = x.view(-1, DATA_SIZE) # reshape the tensor\n",
    "        x = self.fc(x)\n",
    "        return x"
   ]
  },
  {
   "cell_type": "code",
   "execution_count": 20,
   "metadata": {},
   "outputs": [],
   "source": [
    "class MLPNet(nn.Module):\n",
    "    def __init__(self):\n",
    "        super(MLPNet, self).__init__()\n",
    "        self.fc1 = nn.Linear(DATA_SIZE, NUM_HIDDEN_1)\n",
    "        self.fc2 = nn.Linear(NUM_HIDDEN_1, NUM_HIDDEN_2)\n",
    "        self.fc3 = nn.Linear(NUM_HIDDEN_2, NUM_CLASSES)\n",
    "    def forward(self, x):\n",
    "        x = x.view(-1, DATA_SIZE) # reshape the tensor \n",
    "        x = self.fc1(x)\n",
    "        x = nn.ReLU(x)\n",
    "        x = self.fc2(x)\n",
    "        x = nn.ReLU(x)\n",
    "        x = self.fc3(x)\n",
    "        return x"
   ]
  },
  {
   "cell_type": "code",
   "execution_count": 21,
   "metadata": {},
   "outputs": [],
   "source": [
    "NUM_CONV_1=10\n",
    "NUM_CONV_2=20\n",
    "NUM_FC=500\n",
    "class CNNNet(nn.Module):\n",
    "    def __init__(self):\n",
    "        super(CNNNet,self).__init__()\n",
    "        self.conv_1 = nn.Conv2d(1,NUM_CONV_1,5,1) # kernel_size = 5\n",
    "        self.conv_2 = nn.Conv2d(NUM_CONV_1,NUM_CONV_2,5,1) # kernel_size = 5\n",
    "        self.fc_1 = nn.Linear(4*4*NUM_CONV_2, NUM_FC)\n",
    "        self.fc_2 = nn.Linear(NUM_FC,NUM_CLASSES)\n",
    "    def forward(self,x):\n",
    "        x = F.relu(self.conv_1(x))\n",
    "        x = F.max_pool2d(x,2,2)\n",
    "        x = F.relu(self.conv_2(x))\n",
    "        x = F.max_pool2d(x,2,2)\n",
    "        x = x.view(-1,4*4*NUM_CONV_2)\n",
    "        x = F.relu(self.fc_1(x))\n",
    "        x = self.fc_2(x)\n",
    "        return x\n",
    "        # en utilisant loss = F.nll_loss(output, target) on peut faire\n",
    "        # return F.log_softmax(x, dim=1)"
   ]
  },
  {
   "cell_type": "code",
   "execution_count": 26,
   "metadata": {},
   "outputs": [],
   "source": [
    "# define model (choose MLP or CNN)\n",
    "model = RegSoftNet()\n",
    "#model = MLPNet()\n",
    "#model = CNNNet()\n",
    "\n",
    "model.to(device) # puts model on GPU / CPU\n",
    "\n",
    "# optimization hyperparameters\n",
    "optimizer = torch.optim.SGD(model.parameters(), lr=0.05)\n",
    "loss_fn = nn.CrossEntropyLoss()"
   ]
  },
  {
   "cell_type": "code",
   "execution_count": 27,
   "metadata": {},
   "outputs": [
    {
     "name": "stdout",
     "output_type": "stream",
     "text": [
      "epoch 0 batch 0 [0/60000] training loss: 2.3858625888824463\n",
      "epoch 0 batch 100 [10000/60000] training loss: 0.3326517343521118\n",
      "epoch 0 batch 200 [20000/60000] training loss: 0.4510713219642639\n",
      "epoch 0 batch 300 [30000/60000] training loss: 0.2444605976343155\n",
      "epoch 0 batch 400 [40000/60000] training loss: 0.45526179671287537\n",
      "epoch 0 batch 500 [50000/60000] training loss: 0.3042195737361908\n",
      "Accuracy: 9152/10000 (tx 91.52%, err 8.48%)\n",
      "\n",
      "epoch 1 batch 0 [0/60000] training loss: 0.29187190532684326\n",
      "epoch 1 batch 100 [10000/60000] training loss: 0.4004276394844055\n",
      "epoch 1 batch 200 [20000/60000] training loss: 0.40749457478523254\n",
      "epoch 1 batch 300 [30000/60000] training loss: 0.18579040467739105\n",
      "epoch 1 batch 400 [40000/60000] training loss: 0.3847217857837677\n",
      "epoch 1 batch 500 [50000/60000] training loss: 0.18494006991386414\n",
      "Accuracy: 9180/10000 (tx 91.80%, err 8.20%)\n",
      "\n",
      "epoch 2 batch 0 [0/60000] training loss: 0.2667606472969055\n",
      "epoch 2 batch 100 [10000/60000] training loss: 0.2724877893924713\n",
      "epoch 2 batch 200 [20000/60000] training loss: 0.3338400721549988\n",
      "epoch 2 batch 300 [30000/60000] training loss: 0.19268882274627686\n",
      "epoch 2 batch 400 [40000/60000] training loss: 0.4799831509590149\n",
      "epoch 2 batch 500 [50000/60000] training loss: 0.20904311537742615\n",
      "Accuracy: 9166/10000 (tx 91.66%, err 8.34%)\n",
      "\n",
      "epoch 3 batch 0 [0/60000] training loss: 0.22759589552879333\n",
      "epoch 3 batch 100 [10000/60000] training loss: 0.2211896777153015\n",
      "epoch 3 batch 200 [20000/60000] training loss: 0.1668677181005478\n",
      "epoch 3 batch 300 [30000/60000] training loss: 0.22207078337669373\n",
      "epoch 3 batch 400 [40000/60000] training loss: 0.34935638308525085\n",
      "epoch 3 batch 500 [50000/60000] training loss: 0.23724357783794403\n",
      "Accuracy: 9190/10000 (tx 91.90%, err 8.10%)\n",
      "\n",
      "epoch 4 batch 0 [0/60000] training loss: 0.39642417430877686\n",
      "epoch 4 batch 100 [10000/60000] training loss: 0.23060064017772675\n",
      "epoch 4 batch 200 [20000/60000] training loss: 0.23575790226459503\n",
      "epoch 4 batch 300 [30000/60000] training loss: 0.1162106990814209\n",
      "epoch 4 batch 400 [40000/60000] training loss: 0.3019798696041107\n",
      "epoch 4 batch 500 [50000/60000] training loss: 0.23241320252418518\n",
      "Accuracy: 9225/10000 (tx 92.25%, err 7.75%)\n",
      "\n",
      "epoch 5 batch 0 [0/60000] training loss: 0.21588559448719025\n",
      "epoch 5 batch 100 [10000/60000] training loss: 0.2510426938533783\n",
      "epoch 5 batch 200 [20000/60000] training loss: 0.1684015989303589\n",
      "epoch 5 batch 300 [30000/60000] training loss: 0.4097769856452942\n",
      "epoch 5 batch 400 [40000/60000] training loss: 0.1413930207490921\n",
      "epoch 5 batch 500 [50000/60000] training loss: 0.34661048650741577\n",
      "Accuracy: 9224/10000 (tx 92.24%, err 7.76%)\n",
      "\n",
      "epoch 6 batch 0 [0/60000] training loss: 0.2911842465400696\n",
      "epoch 6 batch 100 [10000/60000] training loss: 0.19911757111549377\n",
      "epoch 6 batch 200 [20000/60000] training loss: 0.4433916211128235\n",
      "epoch 6 batch 300 [30000/60000] training loss: 0.253633052110672\n",
      "epoch 6 batch 400 [40000/60000] training loss: 0.4045494496822357\n",
      "epoch 6 batch 500 [50000/60000] training loss: 0.512945294380188\n",
      "Accuracy: 9209/10000 (tx 92.09%, err 7.91%)\n",
      "\n",
      "epoch 7 batch 0 [0/60000] training loss: 0.4186548888683319\n",
      "epoch 7 batch 100 [10000/60000] training loss: 0.16283531486988068\n",
      "epoch 7 batch 200 [20000/60000] training loss: 0.25817179679870605\n",
      "epoch 7 batch 300 [30000/60000] training loss: 0.21716411411762238\n",
      "epoch 7 batch 400 [40000/60000] training loss: 0.4436812996864319\n",
      "epoch 7 batch 500 [50000/60000] training loss: 0.10163024812936783\n",
      "Accuracy: 9227/10000 (tx 92.27%, err 7.73%)\n",
      "\n",
      "epoch 8 batch 0 [0/60000] training loss: 0.14808069169521332\n",
      "epoch 8 batch 100 [10000/60000] training loss: 0.21729587018489838\n",
      "epoch 8 batch 200 [20000/60000] training loss: 0.2688484787940979\n"
     ]
    }
   ],
   "source": [
    "\n",
    "# main loop (train+test)\n",
    "for epoch in range(10):\n",
    "    # training\n",
    "    model.train() # mode \"train\" agit sur \"dropout\" ou \"batchnorm\"\n",
    "    for batch_idx, (x, target) in enumerate(train_loader):\n",
    "        optimizer.zero_grad()\n",
    "        x, target = x.to(device), target.to(device)\n",
    "        out = model(x)\n",
    "        loss = loss_fn(out, target)\n",
    "        loss.backward()\n",
    "        optimizer.step()\n",
    "        if batch_idx %100 ==0:\n",
    "            print('epoch {} batch {} [{}/{}] training loss: {}'.format(epoch,batch_idx,batch_idx*len(x),\n",
    "                    len(train_loader.dataset),loss.item()))\n",
    "    # testing\n",
    "    model.eval()\n",
    "    correct = 0\n",
    "    with torch.no_grad():\n",
    "        for batch_idx, (x, target) in enumerate(test_loader):\n",
    "            x, target = x.to(device), target.to(device)\n",
    "            out = model(x)\n",
    "            loss = loss_fn(out, target)\n",
    "            # _, prediction = torch.max(out.data, 1)\n",
    "            prediction = out.argmax(dim=1, keepdim=True) # index of the max log-probability\n",
    "            correct += prediction.eq(target.view_as(prediction)).sum().item()\n",
    "    taux_classif = 100. * correct / len(test_loader.dataset)\n",
    "    print('Accuracy: {}/{} (tx {:.2f}%, err {:.2f}%)\\n'.format(correct,\n",
    "     len(test_loader.dataset), taux_classif, 100.-taux_classif))\n",
    "\n"
   ]
  }
 ],
 "metadata": {
  "kernelspec": {
   "display_name": "Python 3.10.8 64-bit",
   "language": "python",
   "name": "python3"
  },
  "language_info": {
   "codemirror_mode": {
    "name": "ipython",
    "version": 3
   },
   "file_extension": ".py",
   "mimetype": "text/x-python",
   "name": "python",
   "nbconvert_exporter": "python",
   "pygments_lexer": "ipython3",
   "version": "3.10.8"
  },
  "orig_nbformat": 4,
  "vscode": {
   "interpreter": {
    "hash": "e7370f93d1d0cde622a1f8e1c04877d8463912d04d973331ad4851f04de6915a"
   }
  }
 },
 "nbformat": 4,
 "nbformat_minor": 2
}
